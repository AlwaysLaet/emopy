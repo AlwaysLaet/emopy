{
 "cells": [
  {
   "cell_type": "markdown",
   "metadata": {},
   "source": [
    "# Development Discussion for EmoPy"
   ]
  },
  {
   "cell_type": "markdown",
   "metadata": {},
   "source": [
    "We will use this notebook to illustrate the scraping of the [Unicode Emoji List](https://unicode.org/emoji/charts/full-emoji-list.html). While there are likely many more uses for having an easily accessible Python repository of emojis, on creation the purpose was to create a set of tools to make searching and extracting emojis from common social media text easier. "
   ]
  },
  {
   "cell_type": "markdown",
   "metadata": {},
   "source": [
    "### Acquiring"
   ]
  },
  {
   "cell_type": "code",
   "execution_count": 1,
   "metadata": {},
   "outputs": [],
   "source": [
    "import requests as rq\n",
    "from lxml import html"
   ]
  },
  {
   "cell_type": "code",
   "execution_count": 2,
   "metadata": {
    "scrolled": true
   },
   "outputs": [
    {
     "name": "stdout",
     "output_type": "stream",
     "text": [
      "Emoji: 😀 || Descr: grinning face\n",
      "Emoji: 😃 || Descr: grinning face with big eyes\n",
      "Emoji: 😄 || Descr: grinning face with smiling eyes\n",
      "Emoji: 😁 || Descr: beaming face with smiling eyes\n",
      "Emoji: 😆 || Descr: grinning squinting face\n",
      "Emoji: 😅 || Descr: grinning face with sweat\n",
      "...\n",
      "There are 1816 emojis in the list\n"
     ]
    }
   ],
   "source": [
    "# Get the emojis and their descriptions\n",
    "resp = rq.get(\"https://unicode.org/emoji/charts/full-emoji-list.html\")\n",
    "html_tree = html.fromstring(resp.text)\n",
    "emojis = html_tree.xpath('//td[@class=\"chars\"]//text()')\n",
    "descrs = html_tree.xpath('//td[contains(@class,\"name\")]//text()')\n",
    "\n",
    "for idx, (e, d) in enumerate(zip(emojis, descrs)):\n",
    "    print(f'Emoji: {e} || Descr: {d}')\n",
    "    if idx >= 5:\n",
    "        break\n",
    "print(\"...\")\n",
    "print(f\"There are {len(emojis)} emojis in the list\")"
   ]
  },
  {
   "cell_type": "markdown",
   "metadata": {},
   "source": [
    "### Sorting"
   ]
  },
  {
   "cell_type": "markdown",
   "metadata": {},
   "source": [
    "What we will quickly realize on exploration is that emojis can be several characters long, and often the longer (in terms of number of characters) emojis are often \"glued\" together versions of shorter emojis, often glued with the unicode `\\u200d` character. Since we will want to search for the actual, intended emoji, we will sort these from longest to shortest. \n",
    "\n",
    "To be clear, imagine that we had \"emojis\" `A+B`, `A`, and `B`. Then, suppose we were searching a text which includes the single emoji `A+B`. If we searched for just `A` or just `B`, we would find them; however, we really want to find the full emoji `A+B` and not give the limelight to the shorter \"building blocks\" of the true emoji. This leads us to search by first looking for `A+B`; if that's not there, then search for `A`; if not there, then `B`. This is the perspective of ordering longer-to-shorter when we search."
   ]
  },
  {
   "cell_type": "code",
   "execution_count": 3,
   "metadata": {},
   "outputs": [],
   "source": [
    "emojis, descrs = zip(*sorted(list(zip(emojis, descrs)), key=lambda x: len(x[0]), reverse=True))"
   ]
  },
  {
   "cell_type": "code",
   "execution_count": 4,
   "metadata": {},
   "outputs": [
    {
     "name": "stdout",
     "output_type": "stream",
     "text": [
      "Emoji: 👩‍❤️‍💋‍👨 || Length: 8 || Descr: kiss: woman, man\n",
      "Emoji: 👨‍❤️‍💋‍👨 || Length: 8 || Descr: kiss: man, man\n",
      "Emoji: 👩‍❤️‍💋‍👩 || Length: 8 || Descr: kiss: woman, woman\n",
      "Emoji: 👨‍👩‍👧‍👦 || Length: 7 || Descr: family: man, woman, girl, boy\n",
      "Emoji: 👨‍👩‍👦‍👦 || Length: 7 || Descr: family: man, woman, boy, boy\n",
      "Emoji: 👨‍👩‍👧‍👧 || Length: 7 || Descr: family: man, woman, girl, girl\n"
     ]
    }
   ],
   "source": [
    "for idx, (e, d) in enumerate(zip(emojis, descrs)):\n",
    "    print(f'Emoji: {e} || Length: {len(e)} || Descr: {d}')\n",
    "    if idx >= 5:\n",
    "        break"
   ]
  },
  {
   "cell_type": "markdown",
   "metadata": {},
   "source": [
    "### Searching via RegEx"
   ]
  },
  {
   "cell_type": "markdown",
   "metadata": {},
   "source": [
    "We will create a regular expression of the form `(A+B|A|B)` so that if `A+B` appears, it will not match specifically `A` nor `B`, but will if they are separate instances. Since we already have ordered the emojis from longest character length to shortest, you would think that all that remains is to compile the regular expression \n",
    "```\n",
    "emojis_re_str = \"(\" + \"|\".join(emojis)) + \")\"\n",
    "emojis_re = re.compile(emojis_re_str)\n",
    "```\n",
    "However, you will run into an error if you try this. The reason for the error is because of the asterisk character `*` which the interpreter wants as a regex repeat, but which takes place in the emoji `emojis[223]` (take a look!). So, we need to enter a break character:"
   ]
  },
  {
   "cell_type": "code",
   "execution_count": 5,
   "metadata": {},
   "outputs": [],
   "source": [
    "import re"
   ]
  },
  {
   "cell_type": "code",
   "execution_count": 6,
   "metadata": {},
   "outputs": [],
   "source": [
    "emojis_re_str = \"(\" + \"|\".join([\"(%s)\"%el.replace(\"*\",\"\\*\") for el in emojis]) + \")\"\n",
    "emojis_re = re.compile(emojis_re_str)"
   ]
  },
  {
   "cell_type": "markdown",
   "metadata": {},
   "source": [
    "What this expression should function as when finding the matches is start from left, move right (and ignoring those which were already found to the left!). Moreover, as it will look like analogous to `((A+B)|(A)|(B))`, the inner parentheses will help divvy up the finding, returning a tuple `tup` for each found emoji, with the first element `tup[0]` being the actual found emoji and the remaining entries `tup[1:]` having the same number of entries as inner parentheses, with entry `''` if the emoji was not found or `'<emoji>'` if the emoji was found. For example, if we have the text `s=\"lorem ipsum A+B\"`, then `re.findall('((A+B)|(A)|(B))', s)` would result in the list of tuples `[('A+B', 'A+B', '', '')]`; whereas, with the text `s2=\"lorem ipsum A B\"`, the result of `re.findall('((A+B)|(A)|(B))', s2)` would be the list of tuples `[('A','','A',''), ('B','','','B')]`. "
   ]
  },
  {
   "cell_type": "markdown",
   "metadata": {},
   "source": [
    "To show that this works as expected in terms of the gluing, consider the first emoji in our list `emojis[0]`. This emoji is of a man and woman kissing and is created by concatenating the emojis for a woman, the emoji of a heart, the emoji of kiss lips, and finally with the emoji of a man. Take a look, and notice that the \"glue\" is the unicode `\\u200d`:"
   ]
  },
  {
   "cell_type": "code",
   "execution_count": 7,
   "metadata": {
    "scrolled": true
   },
   "outputs": [
    {
     "data": {
      "text/plain": [
       "['👩', '\\u200d', '❤', '️', '\\u200d', '💋', '\\u200d', '👨']"
      ]
     },
     "execution_count": 7,
     "metadata": {},
     "output_type": "execute_result"
    }
   ],
   "source": [
    "list(emojis[0])"
   ]
  },
  {
   "cell_type": "markdown",
   "metadata": {},
   "source": [
    "Now, we will create a false sentence that one might see in Twitter which contains both the 8-character kiss emoji, a woman, a man, and a heart emoji:"
   ]
  },
  {
   "cell_type": "code",
   "execution_count": 8,
   "metadata": {
    "scrolled": true
   },
   "outputs": [
    {
     "name": "stdout",
     "output_type": "stream",
     "text": [
      "Hi!! :) I love you 👩‍❤️‍💋‍👨👩👨❤\n"
     ]
    }
   ],
   "source": [
    "em_breakdown = list(emojis[0])\n",
    "s = f'Hi!! :) I love you {emojis[0]}{em_breakdown[0]}{em_breakdown[-1]}{em_breakdown[2]}'\n",
    "print(s)"
   ]
  },
  {
   "cell_type": "markdown",
   "metadata": {},
   "source": [
    "Let's extract the emojis that we find with this regex, and notice that we should be able to match them to the emoji descriptions based on the location of the emoji element in the tuple:"
   ]
  },
  {
   "cell_type": "code",
   "execution_count": 9,
   "metadata": {
    "scrolled": true
   },
   "outputs": [
    {
     "name": "stdout",
     "output_type": "stream",
     "text": [
      "👩‍❤️‍💋‍👨 kiss: woman, man\n",
      "👩 woman\n",
      "👨 man\n",
      "❤ red heart\n"
     ]
    }
   ],
   "source": [
    "for e in emojis_re.findall(s):\n",
    "    em = e[0]\n",
    "    arg = e[1:].index(em)\n",
    "    print(em,descrs[arg])"
   ]
  },
  {
   "cell_type": "markdown",
   "metadata": {},
   "source": [
    "Bingo! Notice that we did not duplicate any emojis that appeared in the \"glued\" expression, nor forget the ones which were singularly apart from that expression, plus we were able to flesh out the descriptive text as well!"
   ]
  },
  {
   "cell_type": "markdown",
   "metadata": {},
   "source": [
    "### Removing Emojis from a Document"
   ]
  },
  {
   "cell_type": "markdown",
   "metadata": {},
   "source": [
    "We've successufully been able to extract emojis in a desireable way from a document. Now, let's focus on extracting the non-emoji text. We will be naive about this and simply create a negative search for the emojis in our list. "
   ]
  },
  {
   "cell_type": "code",
   "execution_count": 10,
   "metadata": {},
   "outputs": [],
   "source": [
    "not_emojis_re_str = \"[^\" + \"\".join([el.replace(\"*\",\"\\*\") for el in emojis]) + \"]\"\n",
    "not_emojis_re = re.compile(not_emojis_re_str)"
   ]
  },
  {
   "cell_type": "code",
   "execution_count": 11,
   "metadata": {},
   "outputs": [
    {
     "data": {
      "text/plain": [
       "'Hi!! :) I love you '"
      ]
     },
     "execution_count": 11,
     "metadata": {},
     "output_type": "execute_result"
    }
   ],
   "source": [
    "# Test\n",
    "\"\".join(not_emojis_re.findall(s))"
   ]
  },
  {
   "cell_type": "markdown",
   "metadata": {},
   "source": [
    "Now, the truth is this could use some work to make it a bit more efficient. However, for our purposes, we'll use this for now, but remember to revisit the issue later!"
   ]
  },
  {
   "cell_type": "markdown",
   "metadata": {},
   "source": [
    "## Using the emopy Class\n",
    "\n",
    "We create a class which does this scraping for us, and also includes methods for extracting the actual emojis and emoji-extracted text. Here is an example. The code in `emopy.py` agrees very closely with that above in the notebook, with a slight modification to the emoji and description extraction which considers the case that there are no emojis within the text from the start."
   ]
  },
  {
   "cell_type": "code",
   "execution_count": 12,
   "metadata": {},
   "outputs": [],
   "source": [
    "from emopy import emopy\n",
    "emos = emopy()"
   ]
  },
  {
   "cell_type": "code",
   "execution_count": 13,
   "metadata": {},
   "outputs": [],
   "source": [
    "# Helper function for below inspecting the behavior below\n",
    "def quick_peak(emojis, descrs, text = ''):\n",
    "    if not emojis:\n",
    "        print(f\"No emojis found.\")\n",
    "    else:\n",
    "        for em, de in zip(emojis, descrs):\n",
    "            print(f\"Emoji: {em} || Descr: {de}\")\n",
    "    if text: print(f\"Text extracted: '{text}'\")"
   ]
  },
  {
   "cell_type": "code",
   "execution_count": 14,
   "metadata": {},
   "outputs": [
    {
     "name": "stdout",
     "output_type": "stream",
     "text": [
      "Emoji: 👩‍❤️‍💋‍👨 || Descr: kiss: woman, man\n",
      "Emoji: 👨‍❤️‍💋‍👨 || Descr: kiss: man, man\n",
      "Emoji: 👩‍❤️‍💋‍👩 || Descr: kiss: woman, woman\n",
      "Emoji: 👨‍👩‍👧‍👦 || Descr: family: man, woman, girl, boy\n",
      "Emoji: 👨‍👩‍👦‍👦 || Descr: family: man, woman, boy, boy\n"
     ]
    }
   ],
   "source": [
    "quick_peak(emos.emojis[:5], emos.descrs[:5])"
   ]
  },
  {
   "cell_type": "code",
   "execution_count": 15,
   "metadata": {},
   "outputs": [
    {
     "name": "stdout",
     "output_type": "stream",
     "text": [
      "Applying to the string: Hi!! :) I love you 👩‍❤️‍💋‍👨👩👨❤\n",
      "\n",
      "Emoji: 👩‍❤️‍💋‍👨 || Descr: kiss: woman, man\n",
      "Emoji: 👩 || Descr: woman\n",
      "Emoji: 👨 || Descr: man\n",
      "Emoji: ❤ || Descr: red heart\n",
      "Text extracted: 'Hi!! :) I love you '\n"
     ]
    }
   ],
   "source": [
    "print(f\"Applying to the string: {s}\\n\")\n",
    "# Use emojis_descrs_text_from_doc method\n",
    "e,d,t = emos.emojis_descrs_text_from_doc(s)\n",
    "# Inspect\n",
    "quick_peak(e,d,t)"
   ]
  },
  {
   "cell_type": "code",
   "execution_count": 16,
   "metadata": {},
   "outputs": [
    {
     "name": "stdout",
     "output_type": "stream",
     "text": [
      "Applying to the string: 'Hi!'\n",
      "\n",
      "No emojis found.\n",
      "Text extracted: 'Hi!'\n"
     ]
    }
   ],
   "source": [
    "print(f\"Applying to the string: 'Hi!'\\n\")\n",
    "# Use emojis_descrs_text_from_doc method\n",
    "e2,d2,t2 = emos.emojis_descrs_text_from_doc('Hi!')\n",
    "# Inspect\n",
    "quick_peak(e2,d2,t2)"
   ]
  },
  {
   "cell_type": "markdown",
   "metadata": {},
   "source": [
    "### Extracting Emojis and Text From Many\n",
    "\n",
    "We can also apply our method to an iterator of strings; however, the method name subtly changes by ending with the `s`, making the plural distinction."
   ]
  },
  {
   "cell_type": "code",
   "execution_count": 17,
   "metadata": {},
   "outputs": [
    {
     "data": {
      "text/plain": [
       "['Hi!! :) I love you 👩\\u200d❤️\\u200d💋\\u200d👨👩👨❤',\n",
       " 'Hi!',\n",
       " 'Good boy, Gibson. 😮\\u200d💨']"
      ]
     },
     "execution_count": 17,
     "metadata": {},
     "output_type": "execute_result"
    }
   ],
   "source": [
    "ss = [s, 'Hi!', f'Good boy, Gibson. {emos.emojis[150]}']\n",
    "ss"
   ]
  },
  {
   "cell_type": "code",
   "execution_count": 18,
   "metadata": {},
   "outputs": [
    {
     "name": "stdout",
     "output_type": "stream",
     "text": [
      "Emoji: 👩‍❤️‍💋‍👨 || Descr: kiss: woman, man\n",
      "Emoji: 👩 || Descr: woman\n",
      "Emoji: 👨 || Descr: man\n",
      "Emoji: ❤ || Descr: red heart\n",
      "Text extracted: 'Hi!! :) I love you '\n",
      "\n",
      "No emojis found.\n",
      "Text extracted: 'Hi!'\n",
      "\n",
      "Emoji: 😮‍💨 || Descr: ⊛ face exhaling\n",
      "Text extracted: 'Good boy, Gibson. '\n",
      "\n"
     ]
    }
   ],
   "source": [
    "for e,d,t in emos.emojis_descrs_text_from_docs(ss):\n",
    "    quick_peak(e,d,t)\n",
    "    print(\"\")"
   ]
  },
  {
   "cell_type": "code",
   "execution_count": null,
   "metadata": {},
   "outputs": [],
   "source": []
  }
 ],
 "metadata": {
  "kernelspec": {
   "display_name": "Python 3",
   "language": "python",
   "name": "python3"
  },
  "language_info": {
   "codemirror_mode": {
    "name": "ipython",
    "version": 3
   },
   "file_extension": ".py",
   "mimetype": "text/x-python",
   "name": "python",
   "nbconvert_exporter": "python",
   "pygments_lexer": "ipython3",
   "version": "3.8.5"
  }
 },
 "nbformat": 4,
 "nbformat_minor": 4
}
